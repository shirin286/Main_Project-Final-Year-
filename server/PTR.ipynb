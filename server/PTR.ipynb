{
 "cells": [
  {
   "cell_type": "code",
   "execution_count": 1,
   "metadata": {
    "colab": {
     "base_uri": "https://localhost:8080/"
    },
    "executionInfo": {
     "elapsed": 8115,
     "status": "ok",
     "timestamp": 1733756257351,
     "user": {
      "displayName": "Soham Das",
      "userId": "07168500313744130584"
     },
     "user_tz": -330
    },
    "id": "xWPQqaWs7GUm",
    "outputId": "964762c0-98c9-46fd-9cbe-600e8533868d"
   },
   "outputs": [
    {
     "name": "stdout",
     "output_type": "stream",
     "text": [
      "Collecting dnspython\n",
      "  Downloading dnspython-2.7.0-py3-none-any.whl.metadata (5.8 kB)\n",
      "Downloading dnspython-2.7.0-py3-none-any.whl (313 kB)\n",
      "\u001b[?25l   \u001b[90m━━━━━━━━━━━━━━━━━━━━━━━━━━━━━━━━━━━━━━━━\u001b[0m \u001b[32m0.0/313.6 kB\u001b[0m \u001b[31m?\u001b[0m eta \u001b[36m-:--:--\u001b[0m\r\u001b[2K   \u001b[91m━━━━━━━━━━━━━━━━━━━━━━━━━━━━━━━━━━━━━━━\u001b[0m\u001b[90m╺\u001b[0m \u001b[32m307.2/313.6 kB\u001b[0m \u001b[31m13.4 MB/s\u001b[0m eta \u001b[36m0:00:01\u001b[0m\r\u001b[2K   \u001b[90m━━━━━━━━━━━━━━━━━━━━━━━━━━━━━━━━━━━━━━━━\u001b[0m \u001b[32m313.6/313.6 kB\u001b[0m \u001b[31m6.5 MB/s\u001b[0m eta \u001b[36m0:00:00\u001b[0m\n",
      "\u001b[?25hInstalling collected packages: dnspython\n",
      "Successfully installed dnspython-2.7.0\n"
     ]
    }
   ],
   "source": [
    "!pip install dnspython"
   ]
  },
  {
   "cell_type": "code",
   "execution_count": 3,
   "metadata": {
    "colab": {
     "base_uri": "https://localhost:8080/"
    },
    "executionInfo": {
     "elapsed": 78377,
     "status": "ok",
     "timestamp": 1733756417152,
     "user": {
      "displayName": "Soham Das",
      "userId": "07168500313744130584"
     },
     "user_tz": -330
    },
    "id": "9ztmS2yd7Q02",
    "outputId": "f994880b-5a20-445e-c232-6978855f3750"
   },
   "outputs": [],
   "source": [
    "import dns.resolver\n",
    "import socket\n",
    "\n",
    "def extract_ptr_records(ip):\n",
    "    \"\"\"Extract PTR records for a given IP address.\"\"\"\n",
    "    try:\n",
    "        reversed_ip = '.'.join(reversed(ip.split('.'))) + '.in-addr.arpa'\n",
    "        answers = dns.resolver.resolve(reversed_ip, 'PTR')\n",
    "        \n",
    "        if not answers:\n",
    "            print(\"No PTR records found for this IP address.\")\n",
    "            return\n",
    "\n",
    "        print(\"PTR Records Found:\")\n",
    "        for i, rdata in enumerate(answers, start=1):\n",
    "            print(f\"{i}. {rdata}\")\n",
    "\n",
    "    except dns.resolver.NoAnswer:\n",
    "        print(\"No PTR records found for this IP address.\")\n",
    "    except dns.resolver.NXDOMAIN:\n",
    "        print(\"Domain does not exist.\")\n",
    "    except Exception as e:\n",
    "        print(f\"Error: {e}\")\n",
    "\n",
    "def get_ip_address(domain):\n",
    "    \"\"\"Resolve a domain to an IP address.\"\"\"\n",
    "    try:\n",
    "        return socket.gethostbyname(domain)\n",
    "    except socket.gaierror:\n",
    "        print(f\"Error: Could not resolve the domain '{domain}'.\")\n",
    "        return None\n",
    "\n",
    "def validate_ip(ip):\n",
    "    \"\"\"Validate the IP address format.\"\"\"\n",
    "    parts = ip.split('.')\n",
    "    return len(parts) == 4 and all(part.isdigit() and 0 <= int(part) <= 255 for part in parts)\n",
    "\n",
    "def validate_domain(domain):\n",
    "    \"\"\"Basic validation for domain names.\"\"\"\n",
    "    if not domain or len(domain) > 255:\n",
    "        return False\n",
    "    if domain[-1] == '.':  # Allow trailing dot\n",
    "        domain = domain[:-1]\n",
    "    return all(0 < len(label) < 64 and label.isalnum() for label in domain.split(\".\"))\n",
    "\n",
    "def menu():\n",
    "    \"\"\"Display a menu and process user choices.\"\"\"\n",
    "    print(\"Welcome to the PTR Record Extractor\")\n",
    "    while True:\n",
    "        print(\"\\n1 - Input IP\")\n",
    "        print(\"2 - Input Domain Name\")\n",
    "        print(\"3 - Exit\")\n",
    "        choice = input(\"Enter your choice: \").strip()\n",
    "\n",
    "        if choice == \"1\":\n",
    "            ip = input(\"Enter the IP address to query (e.g., 75.2.70.75): \").strip()\n",
    "            if validate_ip(ip):\n",
    "                extract_ptr_records(ip)\n",
    "            else:\n",
    "                print(\"Invalid IP address format. Please try again.\")\n",
    "        elif choice == \"2\":\n",
    "            domain = input(\"Enter the domain to query (e.g., example.com): \").strip()\n",
    "            if validate_domain(domain):\n",
    "                ip_address = get_ip_address(domain)\n",
    "                if ip_address:\n",
    "                    print(f\"The IP address of '{domain}' is {ip_address}.\")\n",
    "                    extract_ptr_records(ip_address)\n",
    "            else:\n",
    "                print(\"Invalid domain name format. Please try again.\")\n",
    "        elif choice == \"3\":\n",
    "            print(\"Exiting program.\")\n",
    "            break\n",
    "        else:\n",
    "            print(\"Invalid choice. Please enter 1, 2, or 3.\")\n",
    "\n",
    "if __name__ == \"_main_\":\n",
    "    menu()"
   ]
  }
 ],
 "metadata": {
  "colab": {
   "authorship_tag": "ABX9TyO9g2g86YwKflZ2AikOetCK",
   "provenance": []
  },
  "kernelspec": {
   "display_name": "Python 3",
   "name": "python3"
  },
  "language_info": {
   "codemirror_mode": {
    "name": "ipython",
    "version": 3
   },
   "file_extension": ".py",
   "mimetype": "text/x-python",
   "name": "python",
   "nbconvert_exporter": "python",
   "pygments_lexer": "ipython3",
   "version": "3.12.4"
  }
 },
 "nbformat": 4,
 "nbformat_minor": 0
}
